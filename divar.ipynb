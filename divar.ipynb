{
 "cells": [
  {
   "cell_type": "code",
   "execution_count": 31,
   "id": "fa4d5a34",
   "metadata": {
    "ExecuteTime": {
     "end_time": "2023-07-22T11:18:59.545496Z",
     "start_time": "2023-07-22T11:18:58.403036Z"
    }
   },
   "outputs": [],
   "source": [
    "from requests_html import HTMLSession\n",
    "import pandas as pd\n",
    "from random import choice\n",
    "from time import sleep\n",
    "import itertools    #جهت تبدیل لیست چند بعدی تولید شده در تابع دریافت کننده لیست صفحات بعد"
   ]
  },
  {
   "cell_type": "code",
   "execution_count": 32,
   "id": "db775a71",
   "metadata": {
    "ExecuteTime": {
     "end_time": "2023-07-22T08:30:33.165623Z",
     "start_time": "2023-07-22T08:30:33.158377Z"
    }
   },
   "outputs": [],
   "source": [
    "def data_next_page_id(base_size=60, maximum_size=110):\n",
    "    count = 10\n",
    "    session = HTMLSession()\n",
    "    next_page_ids = [0]\n",
    "    while count != 0:\n",
    "        new_next_page_ids = []\n",
    "        for _ in next_page_ids:\n",
    "            url = f'https://api.divar.ir/v8/map-discovery/bbox/posts?lon1=51.09336767388771&lat1=35.570926635221014&lon2=51.64411325946142&lat2=35.872539895122685&nextPageId={_}&filters=building-age=0-10&filters=category=apartment-sell&filters=size={base_size}-{maximum_size}'\n",
    "            response = session.get(url)\n",
    "            new_next_page_ids.append(response.json().get(\"next_page_id\"))\n",
    "        next_page_ids.extend(new_next_page_ids)  # Use extend() instead of append()\n",
    "        count -= 1\n",
    "    return list(set(next_page_ids))"
   ]
  },
  {
   "cell_type": "code",
   "execution_count": 33,
   "id": "692f5ed0",
   "metadata": {
    "ExecuteTime": {
     "end_time": "2023-07-22T08:30:58.871629Z",
     "start_time": "2023-07-22T08:30:33.177604Z"
    }
   },
   "outputs": [],
   "source": [
    "apartment = data_next_page_id(60,110)\n",
    "urls=[f'https://api.divar.ir/v8/map-discovery/bbox/posts?lon1=51.09336767388771&lat1=35.570926635221014&lon2=51.64411325946142&lat2=35.872539895122685&nextPageId={_}&filters=building-age=0-10&filters=category=apartment-sell&filters=size=65-110' for _ in apartment]\n",
    "def tokens(url):\n",
    "    '''دریافت توکن های موجود در صفحات ای پی آی دیوار'''\n",
    "    session = HTMLSession()\n",
    "    response=session.get(url)\n",
    "    datas=response.json()[\"posts\"]\n",
    "    # for _ in datas:\n",
    "    data=[_.get(\"token\") for _ in datas]\n",
    "    return data   #ساخت لیست از همه توکن ها به صورت چند بعدی\n",
    "tokenz = list(itertools.chain(*list(map(tokens,urls)))) #مسطح کردن لیست توکن"
   ]
  },
  {
   "cell_type": "code",
   "execution_count": 35,
   "id": "73e41812",
   "metadata": {
    "ExecuteTime": {
     "end_time": "2023-07-22T08:39:29.028839Z",
     "start_time": "2023-07-22T08:30:58.875624Z"
    }
   },
   "outputs": [],
   "source": [
    "def r_html():\n",
    "    session=HTMLSession()\n",
    "    urls=[]\n",
    "    locations=[]\n",
    "    price_per_meter=[]\n",
    "    for url in tokenz:\n",
    "        urls.append(f\"https://divar.ir/v/{url}\")\n",
    "    for _ in urls:\n",
    "        user_agent=choice([\n",
    "            \"Mozilla/5.0 (Windows NT 10.0; Win64; x64) AppleWebKit/537.36 (KHTML, like Gecko) Chrome/115.0.0.0 Safari/537.36\",\n",
    "            \"Mozilla/5.0 (Windows NT 10.0; Win64; x64; rv:109.0) Gecko/20100101 Firefox/115.0\",\n",
    "            \"Mozilla/5.0 (Macintosh; Intel Mac OS X 13.4; rv:109.0) Gecko/20100101 Firefox/115.0\",\n",
    "            \"Mozilla/5.0 (X11; Linux i686; rv:109.0) Gecko/20100101 Firefox/115.0\",\n",
    "            \"Mozilla/5.0 (iPhone; CPU iPhone OS 13_4_1 like Mac OS X) AppleWebKit/605.1.15 (KHTML, like Gecko) FxiOS/115.0 Mobile/15E148 Safari/605.1.15\",\n",
    "            \"Mozilla/5.0 (X11; Linux x86_64) AppleWebKit/537.36 (KHTML, like Gecko) Chrome/115.0.0.0 Safari/537.360\",\n",
    "            \"Mozilla/5.0 (Macintosh; Intel Mac OS X 13_4_1) AppleWebKit/605.1.15 (KHTML, like Gecko) Version/16.5 Safari/605.1.15\",\n",
    "            'Mozilla/5.0 (Windows NT 10.0; Trident/7.0; rv:11.0) like Gecko',\n",
    "            'Mozilla/5.0 (Windows NT 10.0; Win64; x64) AppleWebKit/537.36 (KHTML, like Gecko) Chrome/115.0.0.0 Safari/537.36 Edg/114.0.1823.86',\n",
    "            \"Mozilla/5.0 (Macintosh; Intel Mac OS X 13_4_1) AppleWebKit/537.36 (KHTML, like Gecko) Chrome/115.0.0.0 Safari/537.36 OPR/100.0.0.0\",\n",
    "            \"Mozilla/5.0 (Windows NT 10.0; Win64; x64) AppleWebKit/537.36 (KHTML, like Gecko) Chrome/115.0.0.0 Safari/537.36 Vivaldi/6.1.3035.111\",\n",
    "\n",
    "        ])\n",
    "        headers={'User-Agent':user_agent}\n",
    "        response=session.get(_,headers=headers)\n",
    "        if response.status_code ==429:\n",
    "            sleep(2)\n",
    "            response=session.get(_,headers=headers)\n",
    "        title=response.html.xpath(\"//*[@id='app']/div[2]/div/div[1]/div[1]/div[1]/div/div[2]/text()\")\n",
    "        price_per_meter.append(response.html.xpath('//*[@id=\"app\"]/div[2]/div/div[1]/div[1]/div[4]/div[3]/div[2]/p/text()'))\n",
    "        if title!=[]:\n",
    "            locations.append(str(title).split(\"در\")[1])\n",
    "        else:\n",
    "            locations.append(title)\n",
    "    df=pd.DataFrame(zip(locations,price_per_meter))\n",
    "    return df.to_excel(\"tehran_price.xlsx\")\n",
    "\n",
    "r_html()"
   ]
  }
 ],
 "metadata": {
  "kernelspec": {
   "display_name": "Python 3",
   "language": "python",
   "name": "python3"
  },
  "language_info": {
   "codemirror_mode": {
    "name": "ipython",
    "version": 3
   },
   "file_extension": ".py",
   "mimetype": "text/x-python",
   "name": "python",
   "nbconvert_exporter": "python",
   "pygments_lexer": "ipython3",
   "version": "3.11.4"
  },
  "toc": {
   "base_numbering": 1,
   "nav_menu": {},
   "number_sections": true,
   "sideBar": true,
   "skip_h1_title": false,
   "title_cell": "Table of Contents",
   "title_sidebar": "Contents",
   "toc_cell": false,
   "toc_position": {},
   "toc_section_display": true,
   "toc_window_display": false
  }
 },
 "nbformat": 4,
 "nbformat_minor": 5
}
