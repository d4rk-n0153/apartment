{
 "cells": [
  {
   "cell_type": "code",
   "execution_count": 28,
   "id": "fa4d5a34",
   "metadata": {
    "ExecuteTime": {
     "end_time": "2023-07-24T06:47:59.956910Z",
     "start_time": "2023-07-24T06:47:59.952759Z"
    }
   },
   "outputs": [],
   "source": [
    "from requests_html import HTMLSession\n",
    "import pandas as pd\n",
    "from random import choice\n",
    "from time import sleep\n",
    "import itertools    #جهت تبدیل لیست چند بعدی تولید شده در تابع دریافت کننده لیست صفحات بعد"
   ]
  },
  {
   "cell_type": "code",
   "execution_count": 29,
   "id": "d6722458",
   "metadata": {
    "ExecuteTime": {
     "end_time": "2023-07-24T06:48:01.629206Z",
     "start_time": "2023-07-24T06:48:01.625306Z"
    }
   },
   "outputs": [],
   "source": [
    "def next(count=8):\n",
    "    '''دریافت کد صفحات حاوی اطلاعات مورد نیاز'''\n",
    "    count = count\n",
    "    next_pages=[0]\n",
    "    session = HTMLSession()\n",
    "    while count!= 0:\n",
    "        response=session.get('https://api.divar.ir/v8/map-discovery/bbox/posts?lon1=51.09336767388771&lat1=35.570926635221014&lon2=51.64411325946142&lat2=35.872539895122685&nextPageId=0&filters=building-age=0-10&filters=category=apartment-sell&filters=size=60-110')\n",
    "        if response.json().get(\"next_page_id\") != None:\n",
    "            next_pages.append(response.json().get(\"next_page_id\"))\n",
    "        count-=1\n",
    "    return next_pages"
   ]
  },
  {
   "cell_type": "code",
   "execution_count": 30,
   "id": "692f5ed0",
   "metadata": {
    "ExecuteTime": {
     "end_time": "2023-07-24T06:48:07.638387Z",
     "start_time": "2023-07-24T06:48:03.112224Z"
    }
   },
   "outputs": [],
   "source": [
    "apartment = next(8)\n",
    "urls=[f'https://api.divar.ir/v8/map-discovery/bbox/posts?lon1=51.09336767388771&lat1=35.570926635221014&lon2=51.64411325946142&lat2=35.872539895122685&nextPageId={_}&filters=building-age=0-10&filters=category=apartment-sell&filters=size=65-110' for _ in apartment]\n",
    "def tokens(url):\n",
    "    '''دریافت توکن های موجود در صفحات ای پی آی دیوار'''\n",
    "    session = HTMLSession()\n",
    "    response=session.get(url)\n",
    "    datas=response.json()[\"posts\"]\n",
    "    # for _ in datas:\n",
    "    data=[_.get(\"token\") for _ in datas]\n",
    "    return data   #ساخت لیست از همه توکن ها به صورت چند بعدی\n",
    "tokenz = list(itertools.chain(*list(map(tokens,urls)))) #مسطح کردن لیست توکن"
   ]
  },
  {
   "cell_type": "code",
   "execution_count": null,
   "id": "50c26834",
   "metadata": {
    "ExecuteTime": {
     "end_time": "2023-07-24T06:52:56.067495Z",
     "start_time": "2023-07-24T06:48:16.592922Z"
    }
   },
   "outputs": [],
   "source": [
    "urls=[f\"https://divar.ir/v/{token}\" for token in tokenz]\n",
    "# Create an empty dataframe with the desired columns\n",
    "df = pd.DataFrame(columns=[\"location\", \"price_per_meter\"])\n",
    "def main(url):\n",
    "    session=HTMLSession()\n",
    "    user_agent=choice([\n",
    "            \"Mozilla/5.0 (Windows NT 10.0; Win64; x64) AppleWebKit/537.36 (KHTML, like Gecko) Chrome/115.0.0.0 Safari/537.36\",\n",
    "            \"Mozilla/5.0 (Windows NT 10.0; Win64; x64; rv:109.0) Gecko/20100101 Firefox/115.0\",\n",
    "            \"Mozilla/5.0 (Macintosh; Intel Mac OS X 13.4; rv:109.0) Gecko/20100101 Firefox/115.0\",\n",
    "            \"Mozilla/5.0 (X11; Linux i686; rv:109.0) Gecko/20100101 Firefox/115.0\",\n",
    "            \"Mozilla/5.0 (iPhone; CPU iPhone OS 13_4_1 like Mac OS X) AppleWebKit/605.1.15 (KHTML, like Gecko) FxiOS/115.0 Mobile/15E148 Safari/605.1.15\",\n",
    "            \"Mozilla/5.0 (X11; Linux x86_64) AppleWebKit/537.36 (KHTML, like Gecko) Chrome/115.0.0.0 Safari/537.360\",\n",
    "            \"Mozilla/5.0 (Macintosh; Intel Mac OS X 13_4_1) AppleWebKit/605.1.15 (KHTML, like Gecko) Version/16.5 Safari/605.1.15\",\n",
    "            'Mozilla/5.0 (Windows NT 10.0; Trident/7.0; rv:11.0) like Gecko',\n",
    "            'Mozilla/5.0 (Windows NT 10.0; Win64; x64) AppleWebKit/537.36 (KHTML, like Gecko) Chrome/115.0.0.0 Safari/537.36 Edg/114.0.1823.86',\n",
    "            \"Mozilla/5.0 (Macintosh; Intel Mac OS X 13_4_1) AppleWebKit/537.36 (KHTML, like Gecko) Chrome/115.0.0.0 Safari/537.36 OPR/100.0.0.0\",\n",
    "            \"Mozilla/5.0 (Windows NT 10.0; Win64; x64) AppleWebKit/537.36 (KHTML, like Gecko) Chrome/115.0.0.0 Safari/537.36 Vivaldi/6.1.3035.111\",\n",
    "\n",
    "        ])\n",
    "    headers={'User-Agent':user_agent}\n",
    "    response=session.get(url,headers=headers)\n",
    "    if response.status_code ==429:\n",
    "        sleep(2)\n",
    "        response=session.get(url,headers=headers)\n",
    "    title=response.html.xpath(\"//*[@id='app']/div[2]/div/div[1]/div[1]/div[1]/div/div[2]/text()\")\n",
    "    price_per_meter=response.html.xpath('//*[@id=\"app\"]/div[2]/div/div[1]/div[1]/div[4]/div[3]/div[2]/p/text()')\n",
    "    if title!=[]:\n",
    "        location=str(title).split(\"در\")[1]\n",
    "    else:\n",
    "        location=title\n",
    "    # Return a dictionary with the location and price_per_meter as keys and values\n",
    "    return {\"location\": location, \"price_per_meter\": price_per_meter}\n",
    "# Use list comprehension to apply the main function to each url and get a list of dictionaries\n",
    "# results = [main(url) for url in urls]\n",
    "results=list(map(main,urls))\n",
    "# Append the results to the dataframe\n",
    "df = pd.concat([df, pd.DataFrame(results)], ignore_index=True)\n",
    "# Save the dataframe to excel file\n",
    "df.to_excel(\"tehran_price.xlsx\")"
   ]
  },
  {
   "cell_type": "code",
   "execution_count": null,
   "id": "7eac9fb9",
   "metadata": {},
   "outputs": [],
   "source": []
  }
 ],
 "metadata": {
  "kernelspec": {
   "display_name": "Python 3 (ipykernel)",
   "language": "python",
   "name": "python3"
  },
  "language_info": {
   "codemirror_mode": {
    "name": "ipython",
    "version": 3
   },
   "file_extension": ".py",
   "mimetype": "text/x-python",
   "name": "python",
   "nbconvert_exporter": "python",
   "pygments_lexer": "ipython3",
   "version": "3.11.3"
  },
  "toc": {
   "base_numbering": 1,
   "nav_menu": {},
   "number_sections": true,
   "sideBar": true,
   "skip_h1_title": false,
   "title_cell": "Table of Contents",
   "title_sidebar": "Contents",
   "toc_cell": false,
   "toc_position": {},
   "toc_section_display": true,
   "toc_window_display": false
  }
 },
 "nbformat": 4,
 "nbformat_minor": 5
}
