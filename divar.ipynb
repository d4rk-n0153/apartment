{
 "cells": [
  {
   "cell_type": "code",
   "execution_count": null,
   "id": "fa4d5a34",
   "metadata": {
    "ExecuteTime": {
     "end_time": "2023-07-19T18:04:37.023701Z",
     "start_time": "2023-07-19T18:04:36.990665Z"
    }
   },
   "outputs": [],
   "source": [
    "from requests_html import HTMLSession\n",
    "# import scrapy\n",
    "# from scrapy.crawler import CrawlerProcess\n",
    "# import pandas as pd\n",
    "# import sqlite3\n",
    "from trafilatura import extract , fetch_url\n",
    "from pprint import pprint as print"
   ]
  },
  {
   "cell_type": "code",
   "execution_count": null,
   "id": "db775a71",
   "metadata": {
    "ExecuteTime": {
     "end_time": "2023-07-19T17:37:29.602130Z",
     "start_time": "2023-07-19T17:37:29.535526Z"
    }
   },
   "outputs": [],
   "source": [
    "def data_next_page_id(base_size=60, maximum_size=110):\n",
    "    count = 1\n",
    "    session = HTMLSession()\n",
    "    next_page_ids = [0]\n",
    "    while count != 0:\n",
    "        new_next_page_ids = []\n",
    "        for _ in next_page_ids:\n",
    "            url = f'https://api.divar.ir/v8/map-discovery/bbox/posts?lon1=50.780457955008785&lat1=35.43862123757947&lon2=51.702507060611595&lat2=35.94376848564657&nextPageId={_}&filters=building-age=0-10&filters=category=apartment-sell&filters=size={base_size}-{maximum_size}'\n",
    "            response = session.get(url)\n",
    "            new_next_page_ids.append(response.json().get(\"next_page_id\"))\n",
    "        next_page_ids.extend(new_next_page_ids)  # Use extend() instead of append()\n",
    "        count -= 1\n",
    "    return list(set(next_page_ids))"
   ]
  },
  {
   "cell_type": "code",
   "execution_count": null,
   "id": "692f5ed0",
   "metadata": {},
   "outputs": [],
   "source": [
    "apartment = data_next_page_id(60,110)\n",
    "def tokens():\n",
    "    urls=[]\n",
    "    tokens=[]\n",
    "    for _ in apartment:\n",
    "        urls.append(f'https://api.divar.ir/v8/map-discovery/bbox/posts?lon1=50.780457955008785&lat1=35.43862123757947&lon2=51.702507060611595&lat2=35.94376848564657&nextPageId={_}&filters=building-age=0-10&filters=category=apartment-sell&filters=size=60-110')\n",
    "    for url in urls:\n",
    "        session = HTMLSession()\n",
    "        response=session.get(url)\n",
    "        datas=response.json()[\"posts\"]\n",
    "        for _ in datas:\n",
    "            tokens.append(_.get(\"token\"))\n",
    "    return tokens\n",
    "# tokens()"
   ]
  },
  {
   "cell_type": "code",
   "execution_count": null,
   "id": "0e9c7c29",
   "metadata": {},
   "outputs": [],
   "source": [
    "urls=[f\"https://divar.ir/v/{_}\" for _ in tokens()]\n",
    "\n",
    "urls"
   ]
  }
 ],
 "metadata": {
  "kernelspec": {
   "display_name": "venv",
   "language": "python",
   "name": "venv"
  },
  "language_info": {
   "codemirror_mode": {
    "name": "ipython",
    "version": 3
   },
   "file_extension": ".py",
   "mimetype": "text/x-python",
   "name": "python",
   "nbconvert_exporter": "python",
   "pygments_lexer": "ipython3",
   "version": "3.10.6"
  },
  "toc": {
   "base_numbering": 1,
   "nav_menu": {},
   "number_sections": true,
   "sideBar": true,
   "skip_h1_title": false,
   "title_cell": "Table of Contents",
   "title_sidebar": "Contents",
   "toc_cell": false,
   "toc_position": {},
   "toc_section_display": true,
   "toc_window_display": false
  }
 },
 "nbformat": 4,
 "nbformat_minor": 5
}
