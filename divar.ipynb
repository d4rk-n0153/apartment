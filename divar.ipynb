{
 "cells": [
  {
   "cell_type": "code",
   "execution_count": 16,
   "id": "fa4d5a34",
   "metadata": {
    "ExecuteTime": {
     "end_time": "2023-07-19T18:04:37.023701Z",
     "start_time": "2023-07-19T18:04:36.990665Z"
    }
   },
   "outputs": [],
   "source": [
    "from requests_html import HTMLSession\n",
    "from requests import get\n",
    "# import scrapy\n",
    "# from scrapy.crawler import CrawlerProcess\n",
    "from random import choice\n",
    "# import pandas as pd\n",
    "# import sqlite3\n",
    "from pprint import pprint as print\n",
    "from time import sleep"
   ]
  },
  {
   "cell_type": "code",
   "execution_count": 5,
   "id": "db775a71",
   "metadata": {
    "ExecuteTime": {
     "end_time": "2023-07-19T17:37:29.602130Z",
     "start_time": "2023-07-19T17:37:29.535526Z"
    }
   },
   "outputs": [],
   "source": [
    "def data_next_page_id(base_size=60, maximum_size=110):\n",
    "    count = 1\n",
    "    session = HTMLSession()\n",
    "    next_page_ids = [0]\n",
    "    while count != 0:\n",
    "        new_next_page_ids = []\n",
    "        for _ in next_page_ids:\n",
    "            url = f'https://api.divar.ir/v8/map-discovery/bbox/posts?lon1=50.780457955008785&lat1=35.43862123757947&lon2=51.702507060611595&lat2=35.94376848564657&nextPageId={_}&filters=building-age=0-10&filters=category=apartment-sell&filters=size={base_size}-{maximum_size}'\n",
    "            response = session.get(url)\n",
    "            new_next_page_ids.append(response.json().get(\"next_page_id\"))\n",
    "        next_page_ids.extend(new_next_page_ids)  # Use extend() instead of append()\n",
    "        count -= 1\n",
    "    return list(set(next_page_ids))"
   ]
  },
  {
   "cell_type": "code",
   "execution_count": 8,
   "id": "692f5ed0",
   "metadata": {},
   "outputs": [],
   "source": [
    "apartment = data_next_page_id(60,110)\n",
    "def tokens():\n",
    "    urls=[]\n",
    "    tokens=[]\n",
    "    for _ in apartment:\n",
    "        urls.append(f'https://api.divar.ir/v8/map-discovery/bbox/posts?lon1=50.780457955008785&lat1=35.43862123757947&lon2=51.702507060611595&lat2=35.94376848564657&nextPageId={_}&filters=building-age=0-10&filters=category=apartment-sell&filters=size=60-110')\n",
    "    for url in urls:\n",
    "        session = HTMLSession()\n",
    "        response=session.get(url)\n",
    "        datas=response.json()[\"posts\"]\n",
    "        for _ in datas:\n",
    "            tokens.append(_.get(\"token\"))\n",
    "    return tokens\n",
    "# tokens()"
   ]
  },
  {
   "cell_type": "code",
   "execution_count": 18,
   "id": "73e41812",
   "metadata": {},
   "outputs": [
    {
     "name": "stdout",
     "output_type": "stream",
     "text": [
      "('<!DOCTYPE html>\\n'\n",
      " '<html>\\n'\n",
      " '\\n'\n",
      " '<head>\\n'\n",
      " '    <title>Too many requests</title>\\n'\n",
      " '</head>\\n'\n",
      " '\\n'\n",
      " '<body>\\n'\n",
      " '    <h2>429 Too many requests</h2>\\n'\n",
      " '    <div>You can have 15 requests every 15 seconds</div>\\n'\n",
      " '</body>\\n'\n",
      " '\\n'\n",
      " '</html>')\n"
     ]
    }
   ],
   "source": [
    "def r_html():\n",
    "    for url in tokens():\n",
    "        # session=HTMLSession()\n",
    "        user_agent=choice([\n",
    "            \"Mozilla/5.0 (Windows NT 10.0; Win64; x64) AppleWebKit/537.36 (KHTML, like Gecko) Chrome/115.0.0.0 Safari/537.36\",\n",
    "            \"Mozilla/5.0 (Windows NT 10.0; Win64; x64; rv:109.0) Gecko/20100101 Firefox/115.0\",\n",
    "            \"Mozilla/5.0 (Macintosh; Intel Mac OS X 13.4; rv:109.0) Gecko/20100101 Firefox/115.0\",\n",
    "            \"Mozilla/5.0 (X11; Linux i686; rv:109.0) Gecko/20100101 Firefox/115.0\",\n",
    "            \"Mozilla/5.0 (iPhone; CPU iPhone OS 13_4_1 like Mac OS X) AppleWebKit/605.1.15 (KHTML, like Gecko) FxiOS/115.0 Mobile/15E148 Safari/605.1.15\",\n",
    "            \"Mozilla/5.0 (X11; Linux x86_64) AppleWebKit/537.36 (KHTML, like Gecko) Chrome/115.0.0.0 Safari/537.360\",\n",
    "            \"Mozilla/5.0 (Macintosh; Intel Mac OS X 13_4_1) AppleWebKit/605.1.15 (KHTML, like Gecko) Version/16.5 Safari/605.1.15\",\n",
    "            'Mozilla/5.0 (Windows NT 10.0; Trident/7.0; rv:11.0) like Gecko',\n",
    "            'Mozilla/5.0 (Windows NT 10.0; Win64; x64) AppleWebKit/537.36 (KHTML, like Gecko) Chrome/115.0.0.0 Safari/537.36 Edg/114.0.1823.86',\n",
    "            \"Mozilla/5.0 (Macintosh; Intel Mac OS X 13_4_1) AppleWebKit/537.36 (KHTML, like Gecko) Chrome/115.0.0.0 Safari/537.36 OPR/100.0.0.0\",\n",
    "            \"Mozilla/5.0 (Windows NT 10.0; Win64; x64) AppleWebKit/537.36 (KHTML, like Gecko) Chrome/115.0.0.0 Safari/537.36 Vivaldi/6.1.3035.111\",\n",
    "\n",
    "        ])\n",
    "        headers={'User-Agent':user_agent}\n",
    "        response=get(f\"https://divar.ir/v/{url}\",headers=headers)\n",
    "        sleep(0.05)\n",
    "        # response.html.render()\n",
    "    print(response.text)\n",
    "r_html()"
   ]
  },
  {
   "cell_type": "markdown",
   "id": "b2dc1558",
   "metadata": {},
   "source": [
    "class Divar(scrapy.Spider):\n",
    "    name=\"divar\"\n",
    "    start_urls=[f\"https://divar.ir/v/{_}\" for _ in tokens()]\n",
    "\n",
    "    def parse(self, response):\n",
    "        location= str(response.xpath('//*[@id=\"app\"]/div[2]/div/div[1]/div[1]/div[1]/div[2]/div[2]/text()').extract()).split(\"در\")[1]\n",
    "        price_per_meter=str(response.xpath(\"//*[@id='app']/div[2]/div/div[1]/div[1]/div[4]/div[3]/div[2]/text()\").extract())\n",
    "        print(5*\"***\")\n",
    "        print(price_per_meter)\n",
    "\n",
    "if __name__==\"__main__\":\n",
    "    p=CrawlerProcess()\n",
    "    p.crawl(Divar)\n",
    "    p.start()"
   ]
  }
 ],
 "metadata": {
  "kernelspec": {
   "display_name": "venv",
   "language": "python",
   "name": "venv"
  },
  "language_info": {
   "codemirror_mode": {
    "name": "ipython",
    "version": 3
   },
   "file_extension": ".py",
   "mimetype": "text/x-python",
   "name": "python",
   "nbconvert_exporter": "python",
   "pygments_lexer": "ipython3",
   "version": "3.10.6"
  },
  "toc": {
   "base_numbering": 1,
   "nav_menu": {},
   "number_sections": true,
   "sideBar": true,
   "skip_h1_title": false,
   "title_cell": "Table of Contents",
   "title_sidebar": "Contents",
   "toc_cell": false,
   "toc_position": {},
   "toc_section_display": true,
   "toc_window_display": false
  }
 },
 "nbformat": 4,
 "nbformat_minor": 5
}
